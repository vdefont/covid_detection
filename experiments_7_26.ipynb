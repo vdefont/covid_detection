{
 "cells": [
  {
   "cell_type": "code",
   "execution_count": null,
   "id": "shaped-necklace",
   "metadata": {},
   "outputs": [],
   "source": [
    "\"\"\"\n",
    "NOTE: Before running this, you'll want to do the following setup:\n",
    "\n",
    "ipython\n",
    "\n",
    "%run preprocess.py\n",
    "make_images(\"png\", 640)\n",
    "preprocess_csv()\n",
    "make_id_orig_size_csv()\n",
    "\n",
    "%run make_data_class.py\n",
    "create_and_validate_data_folds(src=\"png640\", dst=\"png640_3fold\", num_folds=3, extn=\"png\")\n",
    "\n",
    "!pip install albumentations fastbook timm==0.4.12\n",
    "\n",
    "\"\"\""
   ]
  },
  {
   "cell_type": "code",
   "execution_count": 1,
   "id": "academic-thread",
   "metadata": {},
   "outputs": [
    {
     "data": {
      "text/plain": [
       "'\\nvastai prep:\\n- pip install fastai[all]\\n'"
      ]
     },
     "execution_count": 1,
     "metadata": {},
     "output_type": "execute_result"
    }
   ],
   "source": [
    "from fastai.vision.all import *\n",
    "import pickle\n",
    "from importlib import reload\n",
    "\n",
    "import const\n",
    "const = reload(const)\n",
    "import train_class\n",
    "train_class = reload(train_class)\n",
    "\n",
    "\"\"\"\n",
    "vastai prep:\n",
    "- pip install fastai[all]\n",
    "\"\"\""
   ]
  },
  {
   "cell_type": "code",
   "execution_count": null,
   "id": "expensive-quantity",
   "metadata": {},
   "outputs": [],
   "source": [
    "train_class.make_base_models(\n",
    "    [\n",
    "        \"tf_efficientnet_b3\", \n",
    "        \"tf_efficientnet_b3_ap\",\n",
    "        \"tf_efficientnet_b3_ns\",\n",
    "    ]\n",
    ")"
   ]
  },
  {
   "cell_type": "code",
   "execution_count": 3,
   "id": "imperial-center",
   "metadata": {},
   "outputs": [],
   "source": [
    "from typing import List\n",
    "IMAGE_PATH = \"jpg640_3fold\"\n",
    "\n",
    "def run_test(model_name, image_size, num_epochs, lr):\n",
    "    print(f\"\\nModel: {model_name}, Img size: {image_size}, epochs: {num_epochs}, lr: {lr}\")\n",
    "    \n",
    "    dls = train_class.get_dls(\n",
    "        image_path=IMAGE_PATH, \n",
    "        img_size=image_size, \n",
    "        is_neg=False, \n",
    "        fold_valid=0,\n",
    "    )\n",
    "    \n",
    "    learn = train_class.get_learn(dls=dls, model_name=model_name, is_neg=False)\n",
    "    \n",
    "    res = learn.lr_find()\n",
    "    plt.pause(0.001)\n",
    "    \n",
    "    learn.fit_one_cycle(num_epochs, lr)\n",
    "    plt.pause(0.001)\n",
    "    \n",
    "    preds, targs = train_class.predict_and_save_folds(\n",
    "        learn_folds=[learn], \n",
    "        model_name=model_name, \n",
    "        n_tta=6,\n",
    "        is_neg=False,\n",
    "    )\n",
    "    print(\"6 TTA:\", train_class.preds_map(preds, targs))\n",
    "\n",
    "def run_tests(tests, lrs):\n",
    "    for test, lrs_i in zip(tests, lrs):\n",
    "        if not isinstance(lrs_i, List):\n",
    "            lrs_i = [lrs_i]\n",
    "        for lr in lrs_i:\n",
    "            run_test(*test, lr=lr)"
   ]
  },
  {
   "cell_type": "code",
   "execution_count": 7,
   "id": "invalid-executive",
   "metadata": {},
   "outputs": [
    {
     "data": {
      "text/plain": [
       "[('tf_efficientnet_b3', 368, 5),\n",
       " ('tf_efficientnet_b3', 368, 10),\n",
       " ('tf_efficientnet_b3', 512, 5),\n",
       " ('tf_efficientnet_b3', 512, 10),\n",
       " ('tf_efficientnet_b3', 640, 5),\n",
       " ('tf_efficientnet_b3', 640, 10),\n",
       " ('tf_efficientnet_b3_ap', 368, 5),\n",
       " ('tf_efficientnet_b3_ap', 368, 10),\n",
       " ('tf_efficientnet_b3_ap', 512, 5),\n",
       " ('tf_efficientnet_b3_ap', 512, 10),\n",
       " ('tf_efficientnet_b3_ap', 640, 5),\n",
       " ('tf_efficientnet_b3_ap', 640, 10),\n",
       " ('tf_efficientnet_b3_ns', 368, 5),\n",
       " ('tf_efficientnet_b3_ns', 368, 10),\n",
       " ('tf_efficientnet_b3_ns', 512, 5),\n",
       " ('tf_efficientnet_b3_ns', 512, 10),\n",
       " ('tf_efficientnet_b3_ns', 640, 5),\n",
       " ('tf_efficientnet_b3_ns', 640, 10)]"
      ]
     },
     "execution_count": 7,
     "metadata": {},
     "output_type": "execute_result"
    }
   ],
   "source": [
    "tests = list(itertools.product(\n",
    "    [\n",
    "        \"tf_efficientnet_b3\", \n",
    "        \"tf_efficientnet_b3_ap\",\n",
    "        \"tf_efficientnet_b3_ns\",\n",
    "    ],\n",
    "    [368, 512, 640],\n",
    "    [5, 10],\n",
    "))\n",
    "tests"
   ]
  },
  {
   "cell_type": "code",
   "execution_count": null,
   "id": "sunrise-facing",
   "metadata": {},
   "outputs": [],
   "source": [
    "run_tests(tests, lrs=[[7e-4, 1e-3, 2e-3]]*len(tests))"
   ]
  }
 ],
 "metadata": {
  "kernelspec": {
   "display_name": "Python 3",
   "language": "python",
   "name": "python3"
  },
  "language_info": {
   "codemirror_mode": {
    "name": "ipython",
    "version": 3
   },
   "file_extension": ".py",
   "mimetype": "text/x-python",
   "name": "python",
   "nbconvert_exporter": "python",
   "pygments_lexer": "ipython3",
   "version": "3.7.9"
  }
 },
 "nbformat": 4,
 "nbformat_minor": 5
}
