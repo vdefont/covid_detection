{
 "cells": [
  {
   "cell_type": "code",
   "execution_count": 16,
   "id": "artificial-integer",
   "metadata": {},
   "outputs": [],
   "source": [
    "from fastai.vision.all import *\n",
    "import pickle\n",
    "\n",
    "import const\n",
    "import train_class\n",
    "\n",
    "# For vastai, we'll get data from root\n",
    "const.SUBDIR_DATA_CLASS = \"\"\n",
    "# We'll dump models and preds into class/ and neg/\n",
    "const.SUBDIR_MODELS_CLASS = \"class/\"\n",
    "const.SUBDIR_PREDS_CLASS = \"class/\"\n",
    "const.SUBDIR_MODELS_NEG = \"neg/\"\n",
    "const.SUBDIR_PREDS_NEG = \"neg/\""
   ]
  },
  {
   "cell_type": "code",
   "execution_count": 17,
   "id": "rural-death",
   "metadata": {},
   "outputs": [],
   "source": [
    "# PREDICT CLASS #"
   ]
  },
  {
   "cell_type": "code",
   "execution_count": 18,
   "id": "present-despite",
   "metadata": {},
   "outputs": [],
   "source": [
    "IMAGE_PATH = \"png224\"\n",
    "IMAGE_SIZE = 224\n",
    "MODEL_NAME = \"resnet18\""
   ]
  },
  {
   "cell_type": "code",
   "execution_count": 24,
   "id": "baking-trace",
   "metadata": {},
   "outputs": [],
   "source": [
    "dls = train_class.get_dls(image_path=IMAGE_PATH, img_size=IMAGE_SIZE, is_neg=False, test_only=True)"
   ]
  },
  {
   "cell_type": "code",
   "execution_count": null,
   "id": "behind-nightlife",
   "metadata": {},
   "outputs": [],
   "source": [
    "len(dls.train.items), len(dls.valid.items)"
   ]
  },
  {
   "cell_type": "code",
   "execution_count": null,
   "id": "forty-excellence",
   "metadata": {},
   "outputs": [],
   "source": [
    "dls.vocab"
   ]
  },
  {
   "cell_type": "code",
   "execution_count": null,
   "id": "through-acrylic",
   "metadata": {},
   "outputs": [],
   "source": [
    "dls.show_batch()"
   ]
  },
  {
   "cell_type": "code",
   "execution_count": null,
   "id": "upset-bedroom",
   "metadata": {},
   "outputs": [],
   "source": [
    "learn = train_class.get_learn(dls=dls, model_name=MODEL_NAME, is_neg=False, load_model=True)"
   ]
  },
  {
   "cell_type": "code",
   "execution_count": null,
   "id": "excited-spirituality",
   "metadata": {},
   "outputs": [],
   "source": [
    "preds_test, _targs_test = train_class.predict_and_save(\n",
    "    learn=learn, sname=\"test\", model_name=MODEL_NAME, n_tta=0, is_neg=False\n",
    ")"
   ]
  },
  {
   "cell_type": "code",
   "execution_count": null,
   "id": "introductory-castle",
   "metadata": {},
   "outputs": [],
   "source": [
    "preds_test.shape"
   ]
  },
  {
   "cell_type": "code",
   "execution_count": null,
   "id": "armed-workplace",
   "metadata": {},
   "outputs": [],
   "source": [
    "# PREDICT NEG #"
   ]
  },
  {
   "cell_type": "code",
   "execution_count": null,
   "id": "imposed-potential",
   "metadata": {},
   "outputs": [],
   "source": [
    "NEG_IMAGE_PATH = \"png224\"\n",
    "NEG_IMAGE_SIZE = 224\n",
    "NEG_MODEL_NAME = \"resnet18\""
   ]
  },
  {
   "cell_type": "code",
   "execution_count": null,
   "id": "available-click",
   "metadata": {},
   "outputs": [],
   "source": [
    "neg_dls = train_class.get_dls(image_path=NEG_IMAGE_PATH, img_size=NEG_IMAGE_SIZE, is_neg=True, test_only=True)"
   ]
  },
  {
   "cell_type": "code",
   "execution_count": null,
   "id": "married-refund",
   "metadata": {},
   "outputs": [],
   "source": [
    "neg_dls.vocab"
   ]
  },
  {
   "cell_type": "code",
   "execution_count": null,
   "id": "prospective-glucose",
   "metadata": {},
   "outputs": [],
   "source": [
    "neg_dls.show_batch()"
   ]
  },
  {
   "cell_type": "code",
   "execution_count": null,
   "id": "proved-mount",
   "metadata": {},
   "outputs": [],
   "source": [
    "neg_learn = train_class.get_learn(dls=neg_dls, model_name=MODEL_NAME, is_neg=True, load_model=True)"
   ]
  },
  {
   "cell_type": "code",
   "execution_count": null,
   "id": "communist-malaysia",
   "metadata": {},
   "outputs": [],
   "source": [
    "neg_preds_test, _neg_targs_test = train_class.predict_and_save(\n",
    "    learn=neg_learn, sname=\"test\", model_name=NEG_MODEL_NAME, n_tta=0, is_neg=True\n",
    ")"
   ]
  },
  {
   "cell_type": "code",
   "execution_count": null,
   "id": "scenic-musician",
   "metadata": {},
   "outputs": [],
   "source": [
    "neg_preds_test.shape"
   ]
  },
  {
   "cell_type": "code",
   "execution_count": null,
   "id": "qualified-equity",
   "metadata": {},
   "outputs": [],
   "source": []
  }
 ],
 "metadata": {
  "kernelspec": {
   "display_name": "Python 3",
   "language": "python",
   "name": "python3"
  },
  "language_info": {
   "codemirror_mode": {
    "name": "ipython",
    "version": 3
   },
   "file_extension": ".py",
   "mimetype": "text/x-python",
   "name": "python",
   "nbconvert_exporter": "python",
   "pygments_lexer": "ipython3",
   "version": "3.7.9"
  }
 },
 "nbformat": 4,
 "nbformat_minor": 5
}
