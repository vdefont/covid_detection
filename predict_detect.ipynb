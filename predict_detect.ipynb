{
 "cells": [
  {
   "cell_type": "code",
   "execution_count": 1,
   "id": "hungarian-imagination",
   "metadata": {},
   "outputs": [],
   "source": [
    "from icevision.all import *\n",
    "import re\n",
    "from importlib import reload\n",
    "\n",
    "import const\n",
    "const = reload(const)\n",
    "import train_detect\n",
    "train_detect = reload(train_detect)\n",
    "\n",
    "# For vastai, we'll do everything from the root dir\n",
    "const.SUBDIR_DATA_DETECT = \"\"\n",
    "const.SUBDIR_MODELS_DETECT = \"\"\n",
    "const.SUBDIR_PREDS_DETECT = \"\""
   ]
  },
  {
   "cell_type": "code",
   "execution_count": 3,
   "id": "friendly-gardening",
   "metadata": {},
   "outputs": [],
   "source": [
    "# Params\n",
    "IMAGE_PATH = \"png224_7fold_test01\"\n",
    "NUM_FOLDS = 5\n",
    "IMAGE_SIZE = 128 * 2\n",
    "MODEL_NAME = \"eff_lite0_256\"\n",
    "assert int(re.search(r'\\d*$', MODEL_NAME)[0]) == IMAGE_SIZE, \"Image size should match model\"\n",
    "\n",
    "BATCH_SIZE = 8"
   ]
  },
  {
   "cell_type": "code",
   "execution_count": 4,
   "id": "sticky-better",
   "metadata": {},
   "outputs": [
    {
     "data": {
      "application/vnd.jupyter.widget-view+json": {
       "model_id": "83137089ca2846568505622193954ac8",
       "version_major": 2,
       "version_minor": 0
      },
      "text/plain": [
       "HBox(children=(HTML(value=''), FloatProgress(value=0.0, max=1225.0), HTML(value='')))"
      ]
     },
     "metadata": {},
     "output_type": "display_data"
    },
    {
     "name": "stderr",
     "output_type": "stream",
     "text": [
      "\u001b[1m\u001b[1mINFO    \u001b[0m\u001b[1m\u001b[0m - \u001b[1m\u001b[34m\u001b[1mAutofixing records\u001b[0m\u001b[1m\u001b[34m\u001b[0m\u001b[1m\u001b[0m | \u001b[36micevision.parsers.parser\u001b[0m:\u001b[36mparse\u001b[0m:\u001b[36m136\u001b[0m\n"
     ]
    },
    {
     "name": "stdout",
     "output_type": "stream",
     "text": [
      "\n"
     ]
    },
    {
     "data": {
      "application/vnd.jupyter.widget-view+json": {
       "model_id": "20d38bd43d964ac9af9d2416cbfd5fbb",
       "version_major": 2,
       "version_minor": 0
      },
      "text/plain": [
       "HBox(children=(HTML(value=''), FloatProgress(value=0.0, max=980.0), HTML(value='')))"
      ]
     },
     "metadata": {},
     "output_type": "display_data"
    },
    {
     "name": "stdout",
     "output_type": "stream",
     "text": [
      "\n"
     ]
    },
    {
     "data": {
      "application/vnd.jupyter.widget-view+json": {
       "model_id": "60df48e0c93447fcbcb6dd852b7e2a52",
       "version_major": 2,
       "version_minor": 0
      },
      "text/plain": [
       "HBox(children=(HTML(value=''), FloatProgress(value=0.0, max=245.0), HTML(value='')))"
      ]
     },
     "metadata": {},
     "output_type": "display_data"
    },
    {
     "name": "stdout",
     "output_type": "stream",
     "text": [
      "\n",
      "Num records (test): 1225\n"
     ]
    },
    {
     "data": {
      "application/vnd.jupyter.widget-view+json": {
       "model_id": "e64e920d19364f0fb6b23ba331194565",
       "version_major": 2,
       "version_minor": 0
      },
      "text/plain": [
       "HBox(children=(HTML(value=''), FloatProgress(value=1.0, bar_style='info', layout=Layout(width='20px'), max=1.0…"
      ]
     },
     "metadata": {},
     "output_type": "display_data"
    },
    {
     "name": "stderr",
     "output_type": "stream",
     "text": [
      "\u001b[1m\u001b[1mINFO    \u001b[0m\u001b[1m\u001b[0m - \u001b[1m\u001b[34m\u001b[1mAutofixing records\u001b[0m\u001b[1m\u001b[34m\u001b[0m\u001b[1m\u001b[0m | \u001b[36micevision.parsers.parser\u001b[0m:\u001b[36mparse\u001b[0m:\u001b[36m136\u001b[0m\n"
     ]
    },
    {
     "name": "stdout",
     "output_type": "stream",
     "text": [
      "\n"
     ]
    },
    {
     "data": {
      "application/vnd.jupyter.widget-view+json": {
       "model_id": "7aabeab220084b8abc48c596bd8837fc",
       "version_major": 2,
       "version_minor": 0
      },
      "text/plain": [
       "HBox(children=(HTML(value=''), FloatProgress(value=1.0, bar_style='info', layout=Layout(width='20px'), max=1.0…"
      ]
     },
     "metadata": {},
     "output_type": "display_data"
    },
    {
     "name": "stdout",
     "output_type": "stream",
     "text": [
      "\n"
     ]
    },
    {
     "data": {
      "application/vnd.jupyter.widget-view+json": {
       "model_id": "427818fcda9445eea7dc78d58c999270",
       "version_major": 2,
       "version_minor": 0
      },
      "text/plain": [
       "HBox(children=(HTML(value=''), FloatProgress(value=1.0, bar_style='info', layout=Layout(width='20px'), max=1.0…"
      ]
     },
     "metadata": {},
     "output_type": "display_data"
    },
    {
     "name": "stdout",
     "output_type": "stream",
     "text": [
      "\n",
      "Num records (.ipynb_checkpoints): 0\n"
     ]
    }
   ],
   "source": [
    "# Don't care about dataset, since we're making a new one when predicting\n",
    "ds = train_detect.get_ds_train(box_dir=IMAGE_PATH, image_size=IMAGE_SIZE, fold_valid=20)\n",
    "train_dl, valid_dl = train_detect.get_dl_train_valid(\n",
    "    train_ds=ds, valid_ds=ds, model_name=MODEL_NAME, batch_size=BATCH_SIZE\n",
    ")"
   ]
  },
  {
   "cell_type": "code",
   "execution_count": 5,
   "id": "systematic-teacher",
   "metadata": {},
   "outputs": [
    {
     "name": "stdout",
     "output_type": "stream",
     "text": [
      "LOAD PATH: eff_lite0_256_5fold/fold0\n",
      "LOAD PATH: eff_lite0_256_5fold/fold1\n",
      "LOAD PATH: eff_lite0_256_5fold/fold2\n",
      "LOAD PATH: eff_lite0_256_5fold/fold3\n",
      "LOAD PATH: eff_lite0_256_5fold/fold4\n"
     ]
    }
   ],
   "source": [
    "learn_folds = [\n",
    "    train_detect.get_learner(\n",
    "        train_dl=train_dl, valid_dl=valid_dl, \n",
    "        model_name=MODEL_NAME, load_model_fold=fold, no_init_load=True\n",
    "    )\n",
    "    for fold in range(NUM_FOLDS)\n",
    "]"
   ]
  },
  {
   "cell_type": "code",
   "execution_count": 17,
   "id": "sapphire-speaker",
   "metadata": {},
   "outputs": [
    {
     "data": {
      "application/vnd.jupyter.widget-view+json": {
       "model_id": "e99e7edd455140a1b7a8a77c85450cbd",
       "version_major": 2,
       "version_minor": 0
      },
      "text/plain": [
       "HBox(children=(HTML(value=''), FloatProgress(value=0.0, max=1225.0), HTML(value='')))"
      ]
     },
     "metadata": {},
     "output_type": "display_data"
    },
    {
     "name": "stderr",
     "output_type": "stream",
     "text": [
      "\u001b[1m\u001b[1mINFO    \u001b[0m\u001b[1m\u001b[0m - \u001b[1m\u001b[34m\u001b[1mAutofixing records\u001b[0m\u001b[1m\u001b[34m\u001b[0m\u001b[1m\u001b[0m | \u001b[36micevision.parsers.parser\u001b[0m:\u001b[36mparse\u001b[0m:\u001b[36m136\u001b[0m\n"
     ]
    },
    {
     "name": "stdout",
     "output_type": "stream",
     "text": [
      "\n"
     ]
    },
    {
     "data": {
      "application/vnd.jupyter.widget-view+json": {
       "model_id": "bb8faf4b62d54a8d8939cd5629a92944",
       "version_major": 2,
       "version_minor": 0
      },
      "text/plain": [
       "HBox(children=(HTML(value=''), FloatProgress(value=0.0, max=980.0), HTML(value='')))"
      ]
     },
     "metadata": {},
     "output_type": "display_data"
    },
    {
     "name": "stdout",
     "output_type": "stream",
     "text": [
      "\n"
     ]
    },
    {
     "data": {
      "application/vnd.jupyter.widget-view+json": {
       "model_id": "d7befbd15a694c928228b290da5594d0",
       "version_major": 2,
       "version_minor": 0
      },
      "text/plain": [
       "HBox(children=(HTML(value=''), FloatProgress(value=0.0, max=245.0), HTML(value='')))"
      ]
     },
     "metadata": {},
     "output_type": "display_data"
    },
    {
     "name": "stdout",
     "output_type": "stream",
     "text": [
      "\n",
      "Num records (test): 1225\n"
     ]
    },
    {
     "data": {
      "application/vnd.jupyter.widget-view+json": {
       "model_id": "dc356d7576eb477ebb9a859973fc6237",
       "version_major": 2,
       "version_minor": 0
      },
      "text/plain": [
       "HBox(children=(HTML(value=''), FloatProgress(value=0.0, max=154.0), HTML(value='')))"
      ]
     },
     "metadata": {},
     "output_type": "display_data"
    },
    {
     "name": "stdout",
     "output_type": "stream",
     "text": [
      "\n"
     ]
    },
    {
     "data": {
      "application/vnd.jupyter.widget-view+json": {
       "model_id": "5d15f19e58a24b6ca49be2a5154eed26",
       "version_major": 2,
       "version_minor": 0
      },
      "text/plain": [
       "HBox(children=(HTML(value=''), FloatProgress(value=0.0, max=1225.0), HTML(value='')))"
      ]
     },
     "metadata": {},
     "output_type": "display_data"
    },
    {
     "name": "stderr",
     "output_type": "stream",
     "text": [
      "\u001b[1m\u001b[1mINFO    \u001b[0m\u001b[1m\u001b[0m - \u001b[1m\u001b[34m\u001b[1mAutofixing records\u001b[0m\u001b[1m\u001b[34m\u001b[0m\u001b[1m\u001b[0m | \u001b[36micevision.parsers.parser\u001b[0m:\u001b[36mparse\u001b[0m:\u001b[36m136\u001b[0m\n"
     ]
    },
    {
     "name": "stdout",
     "output_type": "stream",
     "text": [
      "\n"
     ]
    },
    {
     "data": {
      "application/vnd.jupyter.widget-view+json": {
       "model_id": "254f4a2c70ce4e1ca2bb6d4fa64437d2",
       "version_major": 2,
       "version_minor": 0
      },
      "text/plain": [
       "HBox(children=(HTML(value=''), FloatProgress(value=0.0, max=980.0), HTML(value='')))"
      ]
     },
     "metadata": {},
     "output_type": "display_data"
    },
    {
     "name": "stdout",
     "output_type": "stream",
     "text": [
      "\n"
     ]
    },
    {
     "data": {
      "application/vnd.jupyter.widget-view+json": {
       "model_id": "32f2ec9a35d7428191fd1e61c3cdce05",
       "version_major": 2,
       "version_minor": 0
      },
      "text/plain": [
       "HBox(children=(HTML(value=''), FloatProgress(value=0.0, max=245.0), HTML(value='')))"
      ]
     },
     "metadata": {},
     "output_type": "display_data"
    },
    {
     "name": "stdout",
     "output_type": "stream",
     "text": [
      "\n",
      "Num records (test): 1225\n"
     ]
    },
    {
     "data": {
      "application/vnd.jupyter.widget-view+json": {
       "model_id": "f3bf4a366b5145e7a554ecb814253369",
       "version_major": 2,
       "version_minor": 0
      },
      "text/plain": [
       "HBox(children=(HTML(value=''), FloatProgress(value=0.0, max=154.0), HTML(value='')))"
      ]
     },
     "metadata": {},
     "output_type": "display_data"
    },
    {
     "name": "stdout",
     "output_type": "stream",
     "text": [
      "\n"
     ]
    },
    {
     "data": {
      "application/vnd.jupyter.widget-view+json": {
       "model_id": "eac0741ecc60412ba5453a7465eedc31",
       "version_major": 2,
       "version_minor": 0
      },
      "text/plain": [
       "HBox(children=(HTML(value=''), FloatProgress(value=0.0, max=1225.0), HTML(value='')))"
      ]
     },
     "metadata": {},
     "output_type": "display_data"
    },
    {
     "name": "stderr",
     "output_type": "stream",
     "text": [
      "\u001b[1m\u001b[1mINFO    \u001b[0m\u001b[1m\u001b[0m - \u001b[1m\u001b[34m\u001b[1mAutofixing records\u001b[0m\u001b[1m\u001b[34m\u001b[0m\u001b[1m\u001b[0m | \u001b[36micevision.parsers.parser\u001b[0m:\u001b[36mparse\u001b[0m:\u001b[36m136\u001b[0m\n"
     ]
    },
    {
     "name": "stdout",
     "output_type": "stream",
     "text": [
      "\n"
     ]
    },
    {
     "data": {
      "application/vnd.jupyter.widget-view+json": {
       "model_id": "eb0c508d431f41e38d5f81c5c7330950",
       "version_major": 2,
       "version_minor": 0
      },
      "text/plain": [
       "HBox(children=(HTML(value=''), FloatProgress(value=0.0, max=980.0), HTML(value='')))"
      ]
     },
     "metadata": {},
     "output_type": "display_data"
    },
    {
     "name": "stdout",
     "output_type": "stream",
     "text": [
      "\n"
     ]
    },
    {
     "data": {
      "application/vnd.jupyter.widget-view+json": {
       "model_id": "76d2ebb0cd894dba87d84450e6873340",
       "version_major": 2,
       "version_minor": 0
      },
      "text/plain": [
       "HBox(children=(HTML(value=''), FloatProgress(value=0.0, max=245.0), HTML(value='')))"
      ]
     },
     "metadata": {},
     "output_type": "display_data"
    },
    {
     "name": "stdout",
     "output_type": "stream",
     "text": [
      "\n",
      "Num records (test): 1225\n"
     ]
    },
    {
     "data": {
      "application/vnd.jupyter.widget-view+json": {
       "model_id": "fc7da5a88f2743e7b1f8bd007ef964c4",
       "version_major": 2,
       "version_minor": 0
      },
      "text/plain": [
       "HBox(children=(HTML(value=''), FloatProgress(value=0.0, max=154.0), HTML(value='')))"
      ]
     },
     "metadata": {},
     "output_type": "display_data"
    },
    {
     "name": "stdout",
     "output_type": "stream",
     "text": [
      "\n"
     ]
    },
    {
     "data": {
      "application/vnd.jupyter.widget-view+json": {
       "model_id": "0209cc824ea741448e39a5db1a5035d7",
       "version_major": 2,
       "version_minor": 0
      },
      "text/plain": [
       "HBox(children=(HTML(value=''), FloatProgress(value=0.0, max=1225.0), HTML(value='')))"
      ]
     },
     "metadata": {},
     "output_type": "display_data"
    },
    {
     "name": "stderr",
     "output_type": "stream",
     "text": [
      "\u001b[1m\u001b[1mINFO    \u001b[0m\u001b[1m\u001b[0m - \u001b[1m\u001b[34m\u001b[1mAutofixing records\u001b[0m\u001b[1m\u001b[34m\u001b[0m\u001b[1m\u001b[0m | \u001b[36micevision.parsers.parser\u001b[0m:\u001b[36mparse\u001b[0m:\u001b[36m136\u001b[0m\n"
     ]
    },
    {
     "name": "stdout",
     "output_type": "stream",
     "text": [
      "\n"
     ]
    },
    {
     "data": {
      "application/vnd.jupyter.widget-view+json": {
       "model_id": "c36ca4daa7dc4e38a84763669c479187",
       "version_major": 2,
       "version_minor": 0
      },
      "text/plain": [
       "HBox(children=(HTML(value=''), FloatProgress(value=0.0, max=980.0), HTML(value='')))"
      ]
     },
     "metadata": {},
     "output_type": "display_data"
    },
    {
     "name": "stdout",
     "output_type": "stream",
     "text": [
      "\n"
     ]
    },
    {
     "data": {
      "application/vnd.jupyter.widget-view+json": {
       "model_id": "f49b5cd39c2849b6b418a55ab283822a",
       "version_major": 2,
       "version_minor": 0
      },
      "text/plain": [
       "HBox(children=(HTML(value=''), FloatProgress(value=0.0, max=245.0), HTML(value='')))"
      ]
     },
     "metadata": {},
     "output_type": "display_data"
    },
    {
     "name": "stdout",
     "output_type": "stream",
     "text": [
      "\n",
      "Num records (test): 1225\n"
     ]
    },
    {
     "data": {
      "application/vnd.jupyter.widget-view+json": {
       "model_id": "61c0334f3a884e8f8b1b38876f2ab658",
       "version_major": 2,
       "version_minor": 0
      },
      "text/plain": [
       "HBox(children=(HTML(value=''), FloatProgress(value=0.0, max=154.0), HTML(value='')))"
      ]
     },
     "metadata": {},
     "output_type": "display_data"
    },
    {
     "name": "stdout",
     "output_type": "stream",
     "text": [
      "\n"
     ]
    },
    {
     "data": {
      "application/vnd.jupyter.widget-view+json": {
       "model_id": "938157a9781e400686f9162e8104c0cf",
       "version_major": 2,
       "version_minor": 0
      },
      "text/plain": [
       "HBox(children=(HTML(value=''), FloatProgress(value=0.0, max=1225.0), HTML(value='')))"
      ]
     },
     "metadata": {},
     "output_type": "display_data"
    },
    {
     "name": "stderr",
     "output_type": "stream",
     "text": [
      "\u001b[1m\u001b[1mINFO    \u001b[0m\u001b[1m\u001b[0m - \u001b[1m\u001b[34m\u001b[1mAutofixing records\u001b[0m\u001b[1m\u001b[34m\u001b[0m\u001b[1m\u001b[0m | \u001b[36micevision.parsers.parser\u001b[0m:\u001b[36mparse\u001b[0m:\u001b[36m136\u001b[0m\n"
     ]
    },
    {
     "name": "stdout",
     "output_type": "stream",
     "text": [
      "\n"
     ]
    },
    {
     "data": {
      "application/vnd.jupyter.widget-view+json": {
       "model_id": "dec0eb895e764267b6be88a679b5786c",
       "version_major": 2,
       "version_minor": 0
      },
      "text/plain": [
       "HBox(children=(HTML(value=''), FloatProgress(value=0.0, max=980.0), HTML(value='')))"
      ]
     },
     "metadata": {},
     "output_type": "display_data"
    },
    {
     "name": "stdout",
     "output_type": "stream",
     "text": [
      "\n"
     ]
    },
    {
     "data": {
      "application/vnd.jupyter.widget-view+json": {
       "model_id": "1b2e65e0cdf64d999e33820f2190b3b1",
       "version_major": 2,
       "version_minor": 0
      },
      "text/plain": [
       "HBox(children=(HTML(value=''), FloatProgress(value=0.0, max=245.0), HTML(value='')))"
      ]
     },
     "metadata": {},
     "output_type": "display_data"
    },
    {
     "name": "stdout",
     "output_type": "stream",
     "text": [
      "\n",
      "Num records (test): 1225\n"
     ]
    },
    {
     "data": {
      "application/vnd.jupyter.widget-view+json": {
       "model_id": "8c04f7431856465ba4e35323c7652659",
       "version_major": 2,
       "version_minor": 0
      },
      "text/plain": [
       "HBox(children=(HTML(value=''), FloatProgress(value=0.0, max=154.0), HTML(value='')))"
      ]
     },
     "metadata": {},
     "output_type": "display_data"
    },
    {
     "name": "stdout",
     "output_type": "stream",
     "text": [
      "\n"
     ]
    }
   ],
   "source": [
    "preds_folds = [\n",
    "    train_detect.predict_and_save(\n",
    "        box_dir=IMAGE_PATH, image_size=IMAGE_SIZE, model_name=MODEL_NAME, \n",
    "        model=learn_fold.model.cuda(), fold=fold\n",
    "    )\n",
    "    for fold, learn_fold in enumerate(learn_folds)\n",
    "]"
   ]
  },
  {
   "cell_type": "code",
   "execution_count": 19,
   "id": "regulation-operation",
   "metadata": {},
   "outputs": [
    {
     "data": {
      "text/plain": [
       "{'bboxes': [<BBox (xmin:49.01650619506836, ymin:70.80499267578125, xmax:125.00776672363281, ymax:197.18353271484375)>,\n",
       "  <BBox (xmin:154.3092041015625, ymin:96.28390502929688, xmax:215.67572021484375, ymax:212.33407592773438)>,\n",
       "  <BBox (xmin:174.17135620117188, ymin:116.02714538574219, xmax:213.61013793945312, ymax:202.71437072753906)>,\n",
       "  <BBox (xmin:50.235862731933594, ymin:101.88707733154297, xmax:90.89905548095703, ymax:188.04791259765625)>,\n",
       "  <BBox (xmin:166.43907165527344, ymin:99.56623840332031, xmax:208.02867126464844, ymax:183.5952606201172)>,\n",
       "  <BBox (xmin:67.19186401367188, ymin:74.34056091308594, xmax:120.47622680664062, ymax:136.25062561035156)>,\n",
       "  <BBox (xmin:108.07461547851562, ymin:78.50337219238281, xmax:195.08453369140625, ymax:215.5890655517578)>,\n",
       "  <BBox (xmin:180.2000732421875, ymin:140.80517578125, xmax:218.97445678710938, ymax:219.402099609375)>,\n",
       "  <BBox (xmin:57.5029182434082, ymin:85.31425476074219, xmax:96.17329406738281, ymax:166.8903350830078)>,\n",
       "  <BBox (xmin:138.90567016601562, ymin:68.23851776123047, xmax:227.632568359375, ymax:229.68161010742188)>,\n",
       "  <BBox (xmin:37.9642333984375, ymin:127.26420593261719, xmax:121.00042724609375, ymax:203.05421447753906)>,\n",
       "  <BBox (xmin:21.735260009765625, ymin:52.29197692871094, xmax:148.20880126953125, ymax:225.7587127685547)>,\n",
       "  <BBox (xmin:166.32943725585938, ymin:122.03807067871094, xmax:225.41903686523438, ymax:228.4125213623047)>,\n",
       "  <BBox (xmin:47.10155487060547, ymin:137.5502166748047, xmax:94.98090362548828, ymax:193.42051696777344)>,\n",
       "  <BBox (xmin:73.07405090332031, ymin:110.4928207397461, xmax:125.65321350097656, ymax:203.23440551757812)>,\n",
       "  <BBox (xmin:77.67266845703125, ymin:76.77494812011719, xmax:116.944091796875, ymax:109.56283569335938)>,\n",
       "  <BBox (xmin:153.7509307861328, ymin:90.3071517944336, xmax:200.0087432861328, ymax:168.87136840820312)>,\n",
       "  <BBox (xmin:183.5293731689453, ymin:123.31035614013672, xmax:209.4301300048828, ymax:177.5867156982422)>,\n",
       "  <BBox (xmin:171.1468505859375, ymin:171.83236694335938, xmax:213.29061889648438, ymax:217.65380859375)>,\n",
       "  <BBox (xmin:157.02139282226562, ymin:79.5095443725586, xmax:202.3740234375, ymax:138.19239807128906)>,\n",
       "  <BBox (xmin:46.846649169921875, ymin:148.2350616455078, xmax:78.3953857421875, ymax:188.02711486816406)>,\n",
       "  <BBox (xmin:40.56050109863281, ymin:119.08234405517578, xmax:79.28327941894531, ymax:191.1929931640625)>,\n",
       "  <BBox (xmin:191.1968536376953, ymin:152.78170776367188, xmax:214.80226135253906, ymax:205.71841430664062)>,\n",
       "  <BBox (xmin:83.64654541015625, ymin:78.03357696533203, xmax:126.32058715820312, ymax:164.08831787109375)>,\n",
       "  <BBox (xmin:139.65623474121094, ymin:143.71490478515625, xmax:219.4088592529297, ymax:220.89752197265625)>,\n",
       "  <BBox (xmin:59.870025634765625, ymin:147.28736877441406, xmax:116.85910034179688, ymax:201.9020538330078)>,\n",
       "  <BBox (xmin:25.705402374267578, ymin:81.13841247558594, xmax:100.52334594726562, ymax:193.2065887451172)>,\n",
       "  <BBox (xmin:163.8482666015625, ymin:91.5570297241211, xmax:194.9862060546875, ymax:124.56229400634766)>,\n",
       "  <BBox (xmin:176.8586883544922, ymin:109.7975082397461, xmax:209.67222595214844, ymax:162.81752014160156)>,\n",
       "  <BBox (xmin:189.84402465820312, ymin:131.00457763671875, xmax:214.215576171875, ymax:185.89083862304688)>,\n",
       "  <BBox (xmin:185.0301971435547, ymin:141.574951171875, xmax:210.27513122558594, ymax:196.36685180664062)>,\n",
       "  <BBox (xmin:184.83251953125, ymin:183.7353515625, xmax:218.17971801757812, ymax:219.99658203125)>,\n",
       "  <BBox (xmin:186.01904296875, ymin:126.02645874023438, xmax:224.91323852539062, ymax:195.73788452148438)>,\n",
       "  <BBox (xmin:60.74488830566406, ymin:96.43232727050781, xmax:91.35295104980469, ymax:136.0535888671875)>,\n",
       "  <BBox (xmin:56.7664794921875, ymin:63.42622375488281, xmax:122.26460266113281, ymax:115.4019775390625)>,\n",
       "  <BBox (xmin:81.28272247314453, ymin:68.9581298828125, xmax:131.7798614501953, ymax:122.96957397460938)>,\n",
       "  <BBox (xmin:48.59425354003906, ymin:159.39614868164062, xmax:89.57911682128906, ymax:191.75692749023438)>,\n",
       "  <BBox (xmin:148.09938049316406, ymin:127.37078857421875, xmax:212.5619659423828, ymax:189.50180053710938)>,\n",
       "  <BBox (xmin:175.8323974609375, ymin:179.16184997558594, xmax:224.89242553710938, ymax:229.39930725097656)>,\n",
       "  <BBox (xmin:53.461021423339844, ymin:130.19447326660156, xmax:80.5225601196289, ymax:183.06187438964844)>,\n",
       "  <BBox (xmin:55.384735107421875, ymin:86.21951293945312, xmax:108.54618835449219, ymax:132.01025390625)>,\n",
       "  <BBox (xmin:180.8965606689453, ymin:94.65251159667969, xmax:216.3593292236328, ymax:176.9905242919922)>,\n",
       "  <BBox (xmin:67.30022430419922, ymin:42.03550720214844, xmax:207.48818969726562, ymax:229.1162872314453)>,\n",
       "  <BBox (xmin:165.9906005859375, ymin:74.90185546875, xmax:219.12557983398438, ymax:159.9970703125)>,\n",
       "  <BBox (xmin:59.66728973388672, ymin:92.82667541503906, xmax:121.54314422607422, ymax:156.80735778808594)>,\n",
       "  <BBox (xmin:43.324031829833984, ymin:160.2509765625, xmax:104.70675659179688, ymax:204.336181640625)>,\n",
       "  <BBox (xmin:189.71975708007812, ymin:162.32205200195312, xmax:223.68603515625, ymax:222.38543701171875)>,\n",
       "  <BBox (xmin:42.846336364746094, ymin:55.596046447753906, xmax:114.43158721923828, ymax:156.35693359375)>,\n",
       "  <BBox (xmin:158.3404998779297, ymin:95.68609619140625, xmax:189.5648651123047, ymax:135.57763671875)>,\n",
       "  <BBox (xmin:176.86883544921875, ymin:155.0041046142578, xmax:205.76449584960938, ymax:202.1250762939453)>,\n",
       "  <BBox (xmin:165.12734985351562, ymin:126.42232513427734, xmax:201.18399047851562, ymax:166.03872680664062)>,\n",
       "  <BBox (xmin:67.97588348388672, ymin:84.47511291503906, xmax:109.08380889892578, ymax:114.03704833984375)>,\n",
       "  <BBox (xmin:165.17889404296875, ymin:134.7149658203125, xmax:203.95993041992188, ymax:200.02926635742188)>,\n",
       "  <BBox (xmin:149.13339233398438, ymin:110.50867462158203, xmax:190.97415161132812, ymax:181.87506103515625)>,\n",
       "  <BBox (xmin:160.36459350585938, ymin:155.14138793945312, xmax:217.12747192382812, ymax:209.17654418945312)>,\n",
       "  <BBox (xmin:73.45783233642578, ymin:157.62734985351562, xmax:112.72431182861328, ymax:196.69284057617188)>,\n",
       "  <BBox (xmin:176.93695068359375, ymin:89.0484619140625, xmax:230.68038940429688, ymax:208.16757202148438)>,\n",
       "  <BBox (xmin:171.28623962402344, ymin:96.34127044677734, xmax:202.5517120361328, ymax:141.14468383789062)>,\n",
       "  <BBox (xmin:58.061988830566406, ymin:100.62660217285156, xmax:133.95761108398438, ymax:232.1007537841797)>,\n",
       "  <BBox (xmin:55.44429016113281, ymin:109.17633056640625, xmax:86.05679321289062, ymax:153.55340576171875)>,\n",
       "  <BBox (xmin:90.00373077392578, ymin:84.19375610351562, xmax:123.73624420166016, ymax:125.05868530273438)>,\n",
       "  <BBox (xmin:165.0667266845703, ymin:182.84173583984375, xmax:203.3877716064453, ymax:214.13409423828125)>,\n",
       "  <BBox (xmin:155.72938537597656, ymin:76.27826690673828, xmax:189.4900665283203, ymax:119.80821990966797)>,\n",
       "  <BBox (xmin:187.06491088867188, ymin:114.73531341552734, xmax:214.15719604492188, ymax:153.90371704101562)>,\n",
       "  <BBox (xmin:180.40728759765625, ymin:129.0689697265625, xmax:220.6219482421875, ymax:165.183837890625)>,\n",
       "  <BBox (xmin:165.0157928466797, ymin:110.55850982666016, xmax:198.72059631347656, ymax:154.1050262451172)>,\n",
       "  <BBox (xmin:171.83035278320312, ymin:192.3080596923828, xmax:209.8240966796875, ymax:223.2393035888672)>,\n",
       "  <BBox (xmin:69.38021850585938, ymin:70.42259216308594, xmax:106.98782348632812, ymax:105.36114501953125)>,\n",
       "  <BBox (xmin:62.67288589477539, ymin:169.99147033691406, xmax:105.81309509277344, ymax:202.5032196044922)>,\n",
       "  <BBox (xmin:48.37248229980469, ymin:163.18936157226562, xmax:126.6219482421875, ymax:218.78298950195312)>,\n",
       "  <BBox (xmin:89.93986511230469, ymin:76.70257568359375, xmax:126.20025634765625, ymax:105.37031555175781)>,\n",
       "  <BBox (xmin:168.03054809570312, ymin:158.2704620361328, xmax:197.231689453125, ymax:203.53846740722656)>,\n",
       "  <BBox (xmin:44.9464111328125, ymin:132.2158660888672, xmax:69.82353210449219, ymax:184.34693908691406)>,\n",
       "  <BBox (xmin:194.00389099121094, ymin:145.09329223632812, xmax:221.52101135253906, ymax:184.630859375)>,\n",
       "  <BBox (xmin:21.69442367553711, ymin:139.63204956054688, xmax:84.27621459960938, ymax:195.02536010742188)>,\n",
       "  <BBox (xmin:55.30849838256836, ymin:111.75992584228516, xmax:114.40536499023438, ymax:172.1343994140625)>,\n",
       "  <BBox (xmin:160.0663299560547, ymin:25.26288604736328, xmax:256.0, ymax:254.47378540039062)>,\n",
       "  <BBox (xmin:170.93170166015625, ymin:135.9718475341797, xmax:213.82254028320312, ymax:175.11244201660156)>,\n",
       "  <BBox (xmin:81.52950286865234, ymin:119.63374328613281, xmax:121.79666900634766, ymax:178.45851135253906)>,\n",
       "  <BBox (xmin:75.39276123046875, ymin:61.311031341552734, xmax:140.2344970703125, ymax:176.46995544433594)>,\n",
       "  <BBox (xmin:178.13856506347656, ymin:93.15127563476562, xmax:208.68064880371094, ymax:127.14837646484375)>,\n",
       "  <BBox (xmin:155.90567016601562, ymin:133.87525939941406, xmax:192.94580078125, ymax:177.11558532714844)>,\n",
       "  <BBox (xmin:42.59614562988281, ymin:103.61185455322266, xmax:100.07687377929688, ymax:156.55413818359375)>,\n",
       "  <BBox (xmin:84.50776672363281, ymin:164.76097106933594, xmax:116.81544494628906, ymax:205.2378692626953)>,\n",
       "  <BBox (xmin:59.89191818237305, ymin:155.56715393066406, xmax:104.46284484863281, ymax:188.64881896972656)>,\n",
       "  <BBox (xmin:154.2793731689453, ymin:153.5075225830078, xmax:247.16236877441406, ymax:234.47300720214844)>,\n",
       "  <BBox (xmin:69.12503814697266, ymin:128.88491821289062, xmax:115.0182113647461, ymax:186.30947875976562)>,\n",
       "  <BBox (xmin:181.8788299560547, ymin:97.26071166992188, xmax:207.4483184814453, ymax:149.1149139404297)>,\n",
       "  <BBox (xmin:82.88317108154297, ymin:144.49513244628906, xmax:124.62540435791016, ymax:197.7559051513672)>,\n",
       "  <BBox (xmin:149.29266357421875, ymin:63.74805450439453, xmax:198.63992309570312, ymax:124.0688247680664)>,\n",
       "  <BBox (xmin:182.3994140625, ymin:156.27903747558594, xmax:232.61578369140625, ymax:204.9991912841797)>,\n",
       "  <BBox (xmin:124.26884460449219, ymin:60.652976989746094, xmax:205.54884338378906, ymax:174.66888427734375)>,\n",
       "  <BBox (xmin:179.11326599121094, ymin:153.1567840576172, xmax:220.0471649169922, ymax:191.58753967285156)>,\n",
       "  <BBox (xmin:41.15888977050781, ymin:158.98446655273438, xmax:71.58252716064453, ymax:194.28787231445312)>,\n",
       "  <BBox (xmin:92.86264038085938, ymin:108.46268463134766, xmax:122.58622741699219, ymax:153.74862670898438)>,\n",
       "  <BBox (xmin:0.0, ymin:0.4354705810546875, xmax:209.1470947265625, ymax:256.0)>,\n",
       "  <BBox (xmin:46.78203582763672, ymin:83.08245849609375, xmax:88.99402618408203, ymax:142.4569091796875)>,\n",
       "  <BBox (xmin:195.41131591796875, ymin:189.32571411132812, xmax:223.70138549804688, ymax:229.10812377929688)>,\n",
       "  <BBox (xmin:59.2529296875, ymin:124.72264862060547, xmax:90.82028198242188, ymax:171.2884521484375)>,\n",
       "  <BBox (xmin:166.15696716308594, ymin:85.43111419677734, xmax:202.74009704589844, ymax:116.43029022216797)>],\n",
       " 'scores': array([0.60252017, 0.45586538, 0.18818298, 0.15754913, 0.12856784,\n",
       "        0.11543043, 0.11078612, 0.10138745, 0.09955718, 0.09221296,\n",
       "        0.09186389, 0.09035806, 0.08658499, 0.08458702, 0.08175285,\n",
       "        0.07876028, 0.06946623, 0.06073275, 0.05780236, 0.05769438,\n",
       "        0.05728961, 0.05233083, 0.05192471, 0.05034289, 0.04552932,\n",
       "        0.04415783, 0.04396503, 0.04395784, 0.04328429, 0.04326375,\n",
       "        0.04217118, 0.04159933, 0.03983044, 0.03867206, 0.03720574,\n",
       "        0.03718177, 0.03432531, 0.03368628, 0.03266058, 0.03245623,\n",
       "        0.0310438 , 0.02998385, 0.02983666, 0.02971642, 0.02938689,\n",
       "        0.02865202, 0.02845563, 0.02729541, 0.02703097, 0.02623032,\n",
       "        0.02580911, 0.02569937, 0.02527236, 0.02505257, 0.02461266,\n",
       "        0.02395494, 0.02383714, 0.02358954, 0.02156691, 0.02149208,\n",
       "        0.02132677, 0.02104655, 0.02071163, 0.02035214, 0.02018521,\n",
       "        0.01997454, 0.01977893, 0.01962657, 0.01939525, 0.01923344,\n",
       "        0.01903835, 0.01877682, 0.01868821, 0.01846047, 0.01753502,\n",
       "        0.01688839, 0.01688425, 0.01669102, 0.01617138, 0.01616785,\n",
       "        0.01614115, 0.01600906, 0.0157137 , 0.01566295, 0.01563301,\n",
       "        0.01551755, 0.01551485, 0.01534757, 0.01527264, 0.0146289 ,\n",
       "        0.01434824, 0.01430529, 0.01421559, 0.01411889, 0.01384175,\n",
       "        0.01297541, 0.01289583, 0.01288005, 0.01265745, 0.01259945],\n",
       "       dtype=float32),\n",
       " 'labels': ['opacity',\n",
       "  'opacity',\n",
       "  'opacity',\n",
       "  'opacity',\n",
       "  'opacity',\n",
       "  'opacity',\n",
       "  'opacity',\n",
       "  'opacity',\n",
       "  'opacity',\n",
       "  'opacity',\n",
       "  'opacity',\n",
       "  'opacity',\n",
       "  'opacity',\n",
       "  'opacity',\n",
       "  'opacity',\n",
       "  'opacity',\n",
       "  'opacity',\n",
       "  'opacity',\n",
       "  'opacity',\n",
       "  'opacity',\n",
       "  'opacity',\n",
       "  'opacity',\n",
       "  'opacity',\n",
       "  'opacity',\n",
       "  'opacity',\n",
       "  'opacity',\n",
       "  'opacity',\n",
       "  'opacity',\n",
       "  'opacity',\n",
       "  'opacity',\n",
       "  'opacity',\n",
       "  'opacity',\n",
       "  'opacity',\n",
       "  'opacity',\n",
       "  'opacity',\n",
       "  'opacity',\n",
       "  'opacity',\n",
       "  'opacity',\n",
       "  'opacity',\n",
       "  'opacity',\n",
       "  'opacity',\n",
       "  'opacity',\n",
       "  'opacity',\n",
       "  'opacity',\n",
       "  'opacity',\n",
       "  'opacity',\n",
       "  'opacity',\n",
       "  'opacity',\n",
       "  'opacity',\n",
       "  'opacity',\n",
       "  'opacity',\n",
       "  'opacity',\n",
       "  'opacity',\n",
       "  'opacity',\n",
       "  'opacity',\n",
       "  'opacity',\n",
       "  'opacity',\n",
       "  'opacity',\n",
       "  'opacity',\n",
       "  'opacity',\n",
       "  'opacity',\n",
       "  'opacity',\n",
       "  'opacity',\n",
       "  'opacity',\n",
       "  'opacity',\n",
       "  'opacity',\n",
       "  'opacity',\n",
       "  'opacity',\n",
       "  'opacity',\n",
       "  'opacity',\n",
       "  'opacity',\n",
       "  'opacity',\n",
       "  'opacity',\n",
       "  'opacity',\n",
       "  'opacity',\n",
       "  'opacity',\n",
       "  'opacity',\n",
       "  'opacity',\n",
       "  'opacity',\n",
       "  'opacity',\n",
       "  'opacity',\n",
       "  'opacity',\n",
       "  'opacity',\n",
       "  'opacity',\n",
       "  'opacity',\n",
       "  'opacity',\n",
       "  'opacity',\n",
       "  'opacity',\n",
       "  'opacity',\n",
       "  'opacity',\n",
       "  'opacity',\n",
       "  'opacity',\n",
       "  'opacity',\n",
       "  'opacity',\n",
       "  'opacity',\n",
       "  'opacity',\n",
       "  'opacity',\n",
       "  'opacity',\n",
       "  'opacity',\n",
       "  'opacity'],\n",
       " 'label_ids': [1,\n",
       "  1,\n",
       "  1,\n",
       "  1,\n",
       "  1,\n",
       "  1,\n",
       "  1,\n",
       "  1,\n",
       "  1,\n",
       "  1,\n",
       "  1,\n",
       "  1,\n",
       "  1,\n",
       "  1,\n",
       "  1,\n",
       "  1,\n",
       "  1,\n",
       "  1,\n",
       "  1,\n",
       "  1,\n",
       "  1,\n",
       "  1,\n",
       "  1,\n",
       "  1,\n",
       "  1,\n",
       "  1,\n",
       "  1,\n",
       "  1,\n",
       "  1,\n",
       "  1,\n",
       "  1,\n",
       "  1,\n",
       "  1,\n",
       "  1,\n",
       "  1,\n",
       "  1,\n",
       "  1,\n",
       "  1,\n",
       "  1,\n",
       "  1,\n",
       "  1,\n",
       "  1,\n",
       "  1,\n",
       "  1,\n",
       "  1,\n",
       "  1,\n",
       "  1,\n",
       "  1,\n",
       "  1,\n",
       "  1,\n",
       "  1,\n",
       "  1,\n",
       "  1,\n",
       "  1,\n",
       "  1,\n",
       "  1,\n",
       "  1,\n",
       "  1,\n",
       "  1,\n",
       "  1,\n",
       "  1,\n",
       "  1,\n",
       "  1,\n",
       "  1,\n",
       "  1,\n",
       "  1,\n",
       "  1,\n",
       "  1,\n",
       "  1,\n",
       "  1,\n",
       "  1,\n",
       "  1,\n",
       "  1,\n",
       "  1,\n",
       "  1,\n",
       "  1,\n",
       "  1,\n",
       "  1,\n",
       "  1,\n",
       "  1,\n",
       "  1,\n",
       "  1,\n",
       "  1,\n",
       "  1,\n",
       "  1,\n",
       "  1,\n",
       "  1,\n",
       "  1,\n",
       "  1,\n",
       "  1,\n",
       "  1,\n",
       "  1,\n",
       "  1,\n",
       "  1,\n",
       "  1,\n",
       "  1,\n",
       "  1,\n",
       "  1,\n",
       "  1,\n",
       "  1]}"
      ]
     },
     "execution_count": 19,
     "metadata": {},
     "output_type": "execute_result"
    }
   ],
   "source": [
    "list(preds_folds[0].values())[0] # Should be a ton of preds"
   ]
  },
  {
   "cell_type": "code",
   "execution_count": null,
   "id": "6ba568fe",
   "metadata": {},
   "outputs": [],
   "source": []
  }
 ],
 "metadata": {
  "kernelspec": {
   "display_name": "Python 3",
   "language": "python",
   "name": "python3"
  },
  "language_info": {
   "codemirror_mode": {
    "name": "ipython",
    "version": 3
   },
   "file_extension": ".py",
   "mimetype": "text/x-python",
   "name": "python",
   "nbconvert_exporter": "python",
   "pygments_lexer": "ipython3",
   "version": "3.7.9"
  }
 },
 "nbformat": 4,
 "nbformat_minor": 5
}
