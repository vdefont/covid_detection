{
 "cells": [
  {
   "cell_type": "code",
   "execution_count": null,
   "id": "hungarian-imagination",
   "metadata": {},
   "outputs": [],
   "source": [
    "from icevision.all import *\n",
    "import re\n",
    "\n",
    "import const\n",
    "import train_detect\n",
    "\n",
    "# For vastai, we'll do everything from the root dir\n",
    "const.SUBDIR_DATA_DETECT = \"\"\n",
    "const.SUBDIR_MODELS_DETECT = \"\"\n",
    "const.SUBDIR_PREDS_DETECT = \"\""
   ]
  },
  {
   "cell_type": "code",
   "execution_count": null,
   "id": "friendly-gardening",
   "metadata": {},
   "outputs": [],
   "source": [
    "# Params\n",
    "IMAGE_PATH = \"png224\"\n",
    "\n",
    "IMAGE_SIZE = 128 * 2\n",
    "MODEL_NAME = \"eff_lite0_256\"\n",
    "assert int(re.search(r'\\d*$', MODEL_NAME)[0]) == IMAGE_SIZE, \"Image size should match model\"\n",
    "\n",
    "BATCH_SIZE = 8"
   ]
  },
  {
   "cell_type": "code",
   "execution_count": null,
   "id": "sticky-better",
   "metadata": {},
   "outputs": [],
   "source": [
    "# Don't care about dataset, since we're making a new one when predicting\n",
    "ds = train_detect.get_ds_train(box_dir=IMAGE_PATH, image_size=IMAGE_SIZE)\n",
    "train_dl, valid_dl = train_detect.get_dl_train_valid(\n",
    "    train_ds=ds, valid_ds=ds, model_name=MODEL_NAME, batch_size=BATCH_SIZE\n",
    ")"
   ]
  },
  {
   "cell_type": "code",
   "execution_count": null,
   "id": "systematic-teacher",
   "metadata": {},
   "outputs": [],
   "source": [
    "learn = train_detect.get_learner(train_dl=train_dl, valid_dl=valid_dl, model_name=MODEL_NAME, load_model=True)"
   ]
  },
  {
   "cell_type": "code",
   "execution_count": null,
   "id": "sapphire-speaker",
   "metadata": {},
   "outputs": [],
   "source": [
    "preds = train_detect.predict_and_save(\n",
    "    box_dir=IMAGE_PATH, image_size=IMAGE_SIZE, model_name=MODEL_NAME, model=learn.model, test_only=True\n",
    ")"
   ]
  },
  {
   "cell_type": "code",
   "execution_count": null,
   "id": "regulation-operation",
   "metadata": {},
   "outputs": [],
   "source": [
    "list(preds['test'].values())[0] # Should be a ton of preds"
   ]
  }
 ],
 "metadata": {
  "kernelspec": {
   "display_name": "Python 3",
   "language": "python",
   "name": "python3"
  },
  "language_info": {
   "codemirror_mode": {
    "name": "ipython",
    "version": 3
   },
   "file_extension": ".py",
   "mimetype": "text/x-python",
   "name": "python",
   "nbconvert_exporter": "python",
   "pygments_lexer": "ipython3",
   "version": "3.7.9"
  }
 },
 "nbformat": 4,
 "nbformat_minor": 5
}
